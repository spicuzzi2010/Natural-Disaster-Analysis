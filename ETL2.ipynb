{
 "cells": [
  {
   "cell_type": "code",
   "execution_count": 1,
   "source": [
    "import pandas as pd\r\n",
    "from sqlalchemy import create_engine\r\n",
    "import psycopg2\r\n",
    "from config import password"
   ],
   "outputs": [],
   "metadata": {}
  },
  {
   "cell_type": "code",
   "execution_count": 2,
   "source": [
    "disaster_data = \"static/data/disasterData.csv\"\r\n",
    "disaster_data_df = pd.read_csv(disaster_data)\r\n",
    "disaster_data_df[\"incidentType\"].value_counts()"
   ],
   "outputs": [
    {
     "output_type": "execute_result",
     "data": {
      "text/plain": [
       "Biological          7628\n",
       "Severe Storms       4570\n",
       "Hurricane           4331\n",
       "Flood               2552\n",
       "Severe Ice Storm    1313\n",
       "Fire                1029\n",
       "Snow                 356\n",
       "Tornado              152\n",
       "Coastal Storm        117\n",
       "Mud/Landslide         33\n",
       "Earthquake            23\n",
       "Dam/Levee Break       10\n",
       "Tsunami                9\n",
       "Chemical               9\n",
       "Other                  5\n",
       "Terrorist              4\n",
       "Volcano                2\n",
       "Freezing               1\n",
       "Toxic Substances       1\n",
       "Name: incidentType, dtype: int64"
      ]
     },
     "metadata": {},
     "execution_count": 2
    }
   ],
   "metadata": {}
  },
  {
   "cell_type": "code",
   "execution_count": 3,
   "source": [
    "disaster_data_df = disaster_data_df[disaster_data_df[\"lat\"] != \"unknown\"]"
   ],
   "outputs": [],
   "metadata": {}
  },
  {
   "cell_type": "code",
   "execution_count": 4,
   "source": [
    "disaster_data_df_cleaned = disaster_data_df[['designatedArea','state','lat','lon','fyDeclared','declarationDate','incidentType','declarationTitle']].copy()"
   ],
   "outputs": [],
   "metadata": {}
  },
  {
   "cell_type": "code",
   "execution_count": 5,
   "source": [
    "#create date only from time column\r\n",
    "time_split = disaster_data_df_cleaned['declarationDate'].str.split('T',expand=True)\r\n",
    "\r\n",
    "disaster_data_df_cleaned['date'] = time_split[0]\r\n",
    "disaster_data_df_cleaned.head()"
   ],
   "outputs": [
    {
     "output_type": "execute_result",
     "data": {
      "text/plain": [
       "     designatedArea state         lat           lon  fyDeclared  \\\n",
       "0      Wayne County    MI  42.2682408   -83.2844172        2021   \n",
       "1  Washtenaw County    MI  42.2582044   -83.8440853        2021   \n",
       "2         Statewide    WA  38.8949924   -77.0365581        2021   \n",
       "4    Klamath County    OR  42.6052565   -121.739544        2021   \n",
       "5    Spokane County    WA  47.5354964  -117.4074674        2021   \n",
       "\n",
       "            declarationDate   incidentType  \\\n",
       "0  2021-07-15T10:41:00.000Z  Severe Storms   \n",
       "1  2021-07-15T10:41:00.000Z  Severe Storms   \n",
       "2  2021-07-14T18:36:00.000Z           Fire   \n",
       "4  2021-07-10T20:22:00.000Z           Fire   \n",
       "5  2021-07-06T00:05:00.000Z           Fire   \n",
       "\n",
       "                           declarationTitle        date  \n",
       "0  SEVERE STORMS,  FLOODING,  AND TORNADOES  2021-07-15  \n",
       "1  SEVERE STORMS,  FLOODING,  AND TORNADOES  2021-07-15  \n",
       "2                            RED APPLE FIRE  2021-07-14  \n",
       "4                              BOOTLEG FIRE  2021-07-10  \n",
       "5                               ANDRUS FIRE  2021-07-06  "
      ],
      "text/html": [
       "<div>\n",
       "<style scoped>\n",
       "    .dataframe tbody tr th:only-of-type {\n",
       "        vertical-align: middle;\n",
       "    }\n",
       "\n",
       "    .dataframe tbody tr th {\n",
       "        vertical-align: top;\n",
       "    }\n",
       "\n",
       "    .dataframe thead th {\n",
       "        text-align: right;\n",
       "    }\n",
       "</style>\n",
       "<table border=\"1\" class=\"dataframe\">\n",
       "  <thead>\n",
       "    <tr style=\"text-align: right;\">\n",
       "      <th></th>\n",
       "      <th>designatedArea</th>\n",
       "      <th>state</th>\n",
       "      <th>lat</th>\n",
       "      <th>lon</th>\n",
       "      <th>fyDeclared</th>\n",
       "      <th>declarationDate</th>\n",
       "      <th>incidentType</th>\n",
       "      <th>declarationTitle</th>\n",
       "      <th>date</th>\n",
       "    </tr>\n",
       "  </thead>\n",
       "  <tbody>\n",
       "    <tr>\n",
       "      <th>0</th>\n",
       "      <td>Wayne County</td>\n",
       "      <td>MI</td>\n",
       "      <td>42.2682408</td>\n",
       "      <td>-83.2844172</td>\n",
       "      <td>2021</td>\n",
       "      <td>2021-07-15T10:41:00.000Z</td>\n",
       "      <td>Severe Storms</td>\n",
       "      <td>SEVERE STORMS,  FLOODING,  AND TORNADOES</td>\n",
       "      <td>2021-07-15</td>\n",
       "    </tr>\n",
       "    <tr>\n",
       "      <th>1</th>\n",
       "      <td>Washtenaw County</td>\n",
       "      <td>MI</td>\n",
       "      <td>42.2582044</td>\n",
       "      <td>-83.8440853</td>\n",
       "      <td>2021</td>\n",
       "      <td>2021-07-15T10:41:00.000Z</td>\n",
       "      <td>Severe Storms</td>\n",
       "      <td>SEVERE STORMS,  FLOODING,  AND TORNADOES</td>\n",
       "      <td>2021-07-15</td>\n",
       "    </tr>\n",
       "    <tr>\n",
       "      <th>2</th>\n",
       "      <td>Statewide</td>\n",
       "      <td>WA</td>\n",
       "      <td>38.8949924</td>\n",
       "      <td>-77.0365581</td>\n",
       "      <td>2021</td>\n",
       "      <td>2021-07-14T18:36:00.000Z</td>\n",
       "      <td>Fire</td>\n",
       "      <td>RED APPLE FIRE</td>\n",
       "      <td>2021-07-14</td>\n",
       "    </tr>\n",
       "    <tr>\n",
       "      <th>4</th>\n",
       "      <td>Klamath County</td>\n",
       "      <td>OR</td>\n",
       "      <td>42.6052565</td>\n",
       "      <td>-121.739544</td>\n",
       "      <td>2021</td>\n",
       "      <td>2021-07-10T20:22:00.000Z</td>\n",
       "      <td>Fire</td>\n",
       "      <td>BOOTLEG FIRE</td>\n",
       "      <td>2021-07-10</td>\n",
       "    </tr>\n",
       "    <tr>\n",
       "      <th>5</th>\n",
       "      <td>Spokane County</td>\n",
       "      <td>WA</td>\n",
       "      <td>47.5354964</td>\n",
       "      <td>-117.4074674</td>\n",
       "      <td>2021</td>\n",
       "      <td>2021-07-06T00:05:00.000Z</td>\n",
       "      <td>Fire</td>\n",
       "      <td>ANDRUS FIRE</td>\n",
       "      <td>2021-07-06</td>\n",
       "    </tr>\n",
       "  </tbody>\n",
       "</table>\n",
       "</div>"
      ]
     },
     "metadata": {},
     "execution_count": 5
    }
   ],
   "metadata": {}
  },
  {
   "cell_type": "code",
   "execution_count": 6,
   "source": [
    "disaster_data_df_cleaned = disaster_data_df_cleaned[['designatedArea','state','lat','lon','fyDeclared','date','incidentType','declarationTitle']].copy()"
   ],
   "outputs": [],
   "metadata": {}
  },
  {
   "cell_type": "code",
   "execution_count": 7,
   "source": [
    "disaster_data_df_cleaned = disaster_data_df_cleaned.rename(columns={'designatedArea': 'county', 'stateName': 'state','fyDeclared': 'year','incidentType': 'disastertype', 'declarationTitle':'declarationtitle'})\r\n",
    "disaster_data_df_cleaned.head()"
   ],
   "outputs": [
    {
     "output_type": "execute_result",
     "data": {
      "text/plain": [
       "             county state         lat           lon  year        date  \\\n",
       "0      Wayne County    MI  42.2682408   -83.2844172  2021  2021-07-15   \n",
       "1  Washtenaw County    MI  42.2582044   -83.8440853  2021  2021-07-15   \n",
       "2         Statewide    WA  38.8949924   -77.0365581  2021  2021-07-14   \n",
       "4    Klamath County    OR  42.6052565   -121.739544  2021  2021-07-10   \n",
       "5    Spokane County    WA  47.5354964  -117.4074674  2021  2021-07-06   \n",
       "\n",
       "    disastertype                          declarationtitle  \n",
       "0  Severe Storms  SEVERE STORMS,  FLOODING,  AND TORNADOES  \n",
       "1  Severe Storms  SEVERE STORMS,  FLOODING,  AND TORNADOES  \n",
       "2           Fire                            RED APPLE FIRE  \n",
       "4           Fire                              BOOTLEG FIRE  \n",
       "5           Fire                               ANDRUS FIRE  "
      ],
      "text/html": [
       "<div>\n",
       "<style scoped>\n",
       "    .dataframe tbody tr th:only-of-type {\n",
       "        vertical-align: middle;\n",
       "    }\n",
       "\n",
       "    .dataframe tbody tr th {\n",
       "        vertical-align: top;\n",
       "    }\n",
       "\n",
       "    .dataframe thead th {\n",
       "        text-align: right;\n",
       "    }\n",
       "</style>\n",
       "<table border=\"1\" class=\"dataframe\">\n",
       "  <thead>\n",
       "    <tr style=\"text-align: right;\">\n",
       "      <th></th>\n",
       "      <th>county</th>\n",
       "      <th>state</th>\n",
       "      <th>lat</th>\n",
       "      <th>lon</th>\n",
       "      <th>year</th>\n",
       "      <th>date</th>\n",
       "      <th>disastertype</th>\n",
       "      <th>declarationtitle</th>\n",
       "    </tr>\n",
       "  </thead>\n",
       "  <tbody>\n",
       "    <tr>\n",
       "      <th>0</th>\n",
       "      <td>Wayne County</td>\n",
       "      <td>MI</td>\n",
       "      <td>42.2682408</td>\n",
       "      <td>-83.2844172</td>\n",
       "      <td>2021</td>\n",
       "      <td>2021-07-15</td>\n",
       "      <td>Severe Storms</td>\n",
       "      <td>SEVERE STORMS,  FLOODING,  AND TORNADOES</td>\n",
       "    </tr>\n",
       "    <tr>\n",
       "      <th>1</th>\n",
       "      <td>Washtenaw County</td>\n",
       "      <td>MI</td>\n",
       "      <td>42.2582044</td>\n",
       "      <td>-83.8440853</td>\n",
       "      <td>2021</td>\n",
       "      <td>2021-07-15</td>\n",
       "      <td>Severe Storms</td>\n",
       "      <td>SEVERE STORMS,  FLOODING,  AND TORNADOES</td>\n",
       "    </tr>\n",
       "    <tr>\n",
       "      <th>2</th>\n",
       "      <td>Statewide</td>\n",
       "      <td>WA</td>\n",
       "      <td>38.8949924</td>\n",
       "      <td>-77.0365581</td>\n",
       "      <td>2021</td>\n",
       "      <td>2021-07-14</td>\n",
       "      <td>Fire</td>\n",
       "      <td>RED APPLE FIRE</td>\n",
       "    </tr>\n",
       "    <tr>\n",
       "      <th>4</th>\n",
       "      <td>Klamath County</td>\n",
       "      <td>OR</td>\n",
       "      <td>42.6052565</td>\n",
       "      <td>-121.739544</td>\n",
       "      <td>2021</td>\n",
       "      <td>2021-07-10</td>\n",
       "      <td>Fire</td>\n",
       "      <td>BOOTLEG FIRE</td>\n",
       "    </tr>\n",
       "    <tr>\n",
       "      <th>5</th>\n",
       "      <td>Spokane County</td>\n",
       "      <td>WA</td>\n",
       "      <td>47.5354964</td>\n",
       "      <td>-117.4074674</td>\n",
       "      <td>2021</td>\n",
       "      <td>2021-07-06</td>\n",
       "      <td>Fire</td>\n",
       "      <td>ANDRUS FIRE</td>\n",
       "    </tr>\n",
       "  </tbody>\n",
       "</table>\n",
       "</div>"
      ]
     },
     "metadata": {},
     "execution_count": 7
    }
   ],
   "metadata": {}
  },
  {
   "cell_type": "code",
   "execution_count": 8,
   "source": [
    "connection_string = f\"postgres:{password}@localhost:5432/natural_disasters\"\r\n",
    "engine = create_engine(f'postgresql://{connection_string}')"
   ],
   "outputs": [],
   "metadata": {}
  },
  {
   "cell_type": "code",
   "execution_count": 9,
   "source": [
    "disaster_data_df_cleaned.to_sql(name='disaster', con=engine, if_exists='append', index=False)"
   ],
   "outputs": [],
   "metadata": {}
  },
  {
   "cell_type": "code",
   "execution_count": null,
   "source": [],
   "outputs": [],
   "metadata": {}
  }
 ],
 "metadata": {
  "orig_nbformat": 4,
  "language_info": {
   "name": "python",
   "version": "3.8.5",
   "mimetype": "text/x-python",
   "codemirror_mode": {
    "name": "ipython",
    "version": 3
   },
   "pygments_lexer": "ipython3",
   "nbconvert_exporter": "python",
   "file_extension": ".py"
  },
  "kernelspec": {
   "name": "python3",
   "display_name": "Python 3.8.5 64-bit ('base': conda)"
  },
  "interpreter": {
   "hash": "97f613484c7082a5f441d3814b62bbd2ba6367090f977f8bd3f34e33dc661583"
  }
 },
 "nbformat": 4,
 "nbformat_minor": 2
}