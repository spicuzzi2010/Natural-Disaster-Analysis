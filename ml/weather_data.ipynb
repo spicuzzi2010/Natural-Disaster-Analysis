{
 "cells": [
  {
   "cell_type": "code",
   "execution_count": 26,
   "source": [
    "%matplotlib inline\r\n",
    "import pandas as pd\r\n",
    "import numpy as np\r\n",
    "import requests\r\n",
    "import matplotlib.pyplot as plt\r\n",
    "import warnings\r\n",
    "warnings.filterwarnings('ignore')"
   ],
   "outputs": [],
   "metadata": {}
  },
  {
   "cell_type": "code",
   "execution_count": 16,
   "source": [
    "disasterCostData = \"costDataRevised.csv\"\r\n",
    "cost_df = pd.read_csv(disasterCostData)\r\n",
    "cost_df.head()"
   ],
   "outputs": [
    {
     "output_type": "execute_result",
     "data": {
      "text/plain": [
       "   Unnamed: 0  disasterNumber  obligationAmount state   incidentType  \\\n",
       "0           0            3345         904490.14    WV  Severe Storms   \n",
       "1           1            3346         842464.67    OH  Severe Storms   \n",
       "2           2            3347        1409793.92    LA      Hurricane   \n",
       "3           3            3348         253189.73    MS      Hurricane   \n",
       "4           4            3349              0.00    MD      Hurricane   \n",
       "\n",
       "       declarationTitle         incidentBeginDate        lat        lon  \\\n",
       "0         SEVERE STORMS  2012-06-29T22:30:00.000Z  39.453524 -78.039552   \n",
       "1         SEVERE STORMS  2012-06-29T22:00:00.000Z  38.839894 -83.505170   \n",
       "2  TROPICAL STORM ISAAC  2012-08-26T00:00:00.000Z  30.211644 -90.918610   \n",
       "3  TROPICAL STORM ISAAC  2012-08-26T00:00:00.000Z  33.077787 -89.568066   \n",
       "4       HURRICANE SANDY  2012-10-26T15:36:00.000Z  38.528853 -76.537764   \n",
       "\n",
       "  incidentDate   incidentTime  \n",
       "0   2012-06-29  22:30:00.000Z  \n",
       "1   2012-06-29  22:00:00.000Z  \n",
       "2   2012-08-26  00:00:00.000Z  \n",
       "3   2012-08-26  00:00:00.000Z  \n",
       "4   2012-10-26  15:36:00.000Z  "
      ],
      "text/html": [
       "<div>\n",
       "<style scoped>\n",
       "    .dataframe tbody tr th:only-of-type {\n",
       "        vertical-align: middle;\n",
       "    }\n",
       "\n",
       "    .dataframe tbody tr th {\n",
       "        vertical-align: top;\n",
       "    }\n",
       "\n",
       "    .dataframe thead th {\n",
       "        text-align: right;\n",
       "    }\n",
       "</style>\n",
       "<table border=\"1\" class=\"dataframe\">\n",
       "  <thead>\n",
       "    <tr style=\"text-align: right;\">\n",
       "      <th></th>\n",
       "      <th>Unnamed: 0</th>\n",
       "      <th>disasterNumber</th>\n",
       "      <th>obligationAmount</th>\n",
       "      <th>state</th>\n",
       "      <th>incidentType</th>\n",
       "      <th>declarationTitle</th>\n",
       "      <th>incidentBeginDate</th>\n",
       "      <th>lat</th>\n",
       "      <th>lon</th>\n",
       "      <th>incidentDate</th>\n",
       "      <th>incidentTime</th>\n",
       "    </tr>\n",
       "  </thead>\n",
       "  <tbody>\n",
       "    <tr>\n",
       "      <th>0</th>\n",
       "      <td>0</td>\n",
       "      <td>3345</td>\n",
       "      <td>904490.14</td>\n",
       "      <td>WV</td>\n",
       "      <td>Severe Storms</td>\n",
       "      <td>SEVERE STORMS</td>\n",
       "      <td>2012-06-29T22:30:00.000Z</td>\n",
       "      <td>39.453524</td>\n",
       "      <td>-78.039552</td>\n",
       "      <td>2012-06-29</td>\n",
       "      <td>22:30:00.000Z</td>\n",
       "    </tr>\n",
       "    <tr>\n",
       "      <th>1</th>\n",
       "      <td>1</td>\n",
       "      <td>3346</td>\n",
       "      <td>842464.67</td>\n",
       "      <td>OH</td>\n",
       "      <td>Severe Storms</td>\n",
       "      <td>SEVERE STORMS</td>\n",
       "      <td>2012-06-29T22:00:00.000Z</td>\n",
       "      <td>38.839894</td>\n",
       "      <td>-83.505170</td>\n",
       "      <td>2012-06-29</td>\n",
       "      <td>22:00:00.000Z</td>\n",
       "    </tr>\n",
       "    <tr>\n",
       "      <th>2</th>\n",
       "      <td>2</td>\n",
       "      <td>3347</td>\n",
       "      <td>1409793.92</td>\n",
       "      <td>LA</td>\n",
       "      <td>Hurricane</td>\n",
       "      <td>TROPICAL STORM ISAAC</td>\n",
       "      <td>2012-08-26T00:00:00.000Z</td>\n",
       "      <td>30.211644</td>\n",
       "      <td>-90.918610</td>\n",
       "      <td>2012-08-26</td>\n",
       "      <td>00:00:00.000Z</td>\n",
       "    </tr>\n",
       "    <tr>\n",
       "      <th>3</th>\n",
       "      <td>3</td>\n",
       "      <td>3348</td>\n",
       "      <td>253189.73</td>\n",
       "      <td>MS</td>\n",
       "      <td>Hurricane</td>\n",
       "      <td>TROPICAL STORM ISAAC</td>\n",
       "      <td>2012-08-26T00:00:00.000Z</td>\n",
       "      <td>33.077787</td>\n",
       "      <td>-89.568066</td>\n",
       "      <td>2012-08-26</td>\n",
       "      <td>00:00:00.000Z</td>\n",
       "    </tr>\n",
       "    <tr>\n",
       "      <th>4</th>\n",
       "      <td>4</td>\n",
       "      <td>3349</td>\n",
       "      <td>0.00</td>\n",
       "      <td>MD</td>\n",
       "      <td>Hurricane</td>\n",
       "      <td>HURRICANE SANDY</td>\n",
       "      <td>2012-10-26T15:36:00.000Z</td>\n",
       "      <td>38.528853</td>\n",
       "      <td>-76.537764</td>\n",
       "      <td>2012-10-26</td>\n",
       "      <td>15:36:00.000Z</td>\n",
       "    </tr>\n",
       "  </tbody>\n",
       "</table>\n",
       "</div>"
      ]
     },
     "metadata": {},
     "execution_count": 16
    }
   ],
   "metadata": {}
  },
  {
   "cell_type": "code",
   "execution_count": null,
   "source": [],
   "outputs": [],
   "metadata": {}
  },
  {
   "cell_type": "code",
   "execution_count": 28,
   "source": [
    "weather_data = []\r\n",
    "for index, row in cost_df.iterrows():\r\n",
    "    print(row['lat']) \r\n",
    "    print(row['lon']) \r\n",
    "    print(row['incidentDate'])\r\n",
    "    #lat = 39.4535243\r\n",
    "    #lon = -78.0395522\r\n",
    "    #date = '2012-06-29'\r\n",
    "    url = f'https://weather.visualcrossing.com/VisualCrossingWebServices/rest/services/timeline/{lat}%2C{lon}/{date}?unitGroup=us&key=WAH7SGPNNNY6MRXZ7KYSSKC8M&include=obs'\r\n",
    "\r\n",
    "print(requests.get(url).json())"
   ],
   "outputs": [
    {
     "output_type": "stream",
     "name": "stdout",
     "text": [
      "{'queryCost': 1, 'latitude': 39.4535243, 'longitude': -78.0395522, 'resolvedAddress': '39.4535243,-78.0395522', 'address': '39.4535243,-78.0395522', 'timezone': 'America/New_York', 'tzoffset': -4.0, 'days': [{'datetime': '2012-06-29', 'datetimeEpoch': 1340942400, 'tempmax': 102.0, 'tempmin': 71.4, 'temp': 86.7, 'feelslikemax': 106.9, 'feelslikemin': 71.4, 'feelslike': 89.8, 'dew': 66.7, 'humidity': 54.49, 'precip': 0.09, 'precipprob': None, 'precipcover': 8.33, 'preciptype': None, 'snow': None, 'snowdepth': None, 'windgust': 47.9, 'windspeed': 22.8, 'winddir': 269.8, 'pressure': 1007.2, 'cloudcover': 12.8, 'visibility': 9.6, 'solarradiation': None, 'solarenergy': None, 'uvindex': 0.0, 'sunrise': '05:48:08', 'sunriseEpoch': 1340963288, 'sunset': '20:43:13', 'sunsetEpoch': 1341016993, 'moonphase': 0.38, 'conditions': 'Rain', 'description': 'Clear conditions throughout the day with late afternoon rain.', 'icon': 'rain', 'stations': ['KMRB', '72405303717', '72406693706', '72417713734', 'KHGR', 'KOKV'], 'source': 'obs'}], 'stations': {'KMRB': {'distance': 7856.0, 'latitude': 39.4, 'longitude': -77.98, 'useCount': 0, 'id': 'KMRB', 'name': 'KMRB', 'quality': 100, 'contribution': 0.0}, '72405303717': {'distance': 35696.0, 'latitude': 39.143, 'longitude': -78.144, 'useCount': 0, 'id': '72405303717', 'name': 'WINCHESTER REGIONAL AIRPORT, VA US', 'quality': 100, 'contribution': 0.0}, '72406693706': {'distance': 38662.0, 'latitude': 39.706, 'longitude': -77.73, 'useCount': 0, 'id': '72406693706', 'name': 'HAGERSTOWN REGIONAL AIRPORT, MD US', 'quality': 100, 'contribution': 0.0}, '72417713734': {'distance': 9836.0, 'latitude': 39.404, 'longitude': -77.945, 'useCount': 0, 'id': '72417713734', 'name': 'MARTINSBURG EASTERN WEST VIRGINIA REGIONAL AIRPORT, WV US', 'quality': 100, 'contribution': 0.0}, 'KHGR': {'distance': 38187.0, 'latitude': 39.7, 'longitude': -77.73, 'useCount': 0, 'id': 'KHGR', 'name': 'KHGR', 'quality': 99, 'contribution': 0.0}, 'KOKV': {'distance': 35102.0, 'latitude': 39.15, 'longitude': -78.15, 'useCount': 0, 'id': 'KOKV', 'name': 'KOKV', 'quality': 99, 'contribution': 0.0}}}\n"
     ]
    }
   ],
   "metadata": {}
  },
  {
   "cell_type": "code",
   "execution_count": null,
   "source": [],
   "outputs": [],
   "metadata": {}
  },
  {
   "cell_type": "code",
   "execution_count": null,
   "source": [],
   "outputs": [],
   "metadata": {}
  },
  {
   "cell_type": "code",
   "execution_count": null,
   "source": [],
   "outputs": [],
   "metadata": {}
  }
 ],
 "metadata": {
  "orig_nbformat": 4,
  "language_info": {
   "name": "python",
   "version": "3.8.5",
   "mimetype": "text/x-python",
   "codemirror_mode": {
    "name": "ipython",
    "version": 3
   },
   "pygments_lexer": "ipython3",
   "nbconvert_exporter": "python",
   "file_extension": ".py"
  },
  "kernelspec": {
   "name": "python3",
   "display_name": "Python 3.8.5 64-bit ('base': conda)"
  },
  "interpreter": {
   "hash": "8d4abf1b7acf6c08228572b93ea2ea3f8ac026ef543e5c7962f606e9aa6c2e53"
  }
 },
 "nbformat": 4,
 "nbformat_minor": 2
}