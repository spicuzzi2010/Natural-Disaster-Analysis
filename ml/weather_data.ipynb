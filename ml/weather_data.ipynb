{
 "cells": [
  {
   "cell_type": "code",
   "execution_count": 84,
   "source": [
    "import pandas as pd\r\n",
    "import numpy as np\r\n",
    "import requests\r\n",
    "import matplotlib.pyplot as plt\r\n",
    "import warnings\r\n",
    "warnings.filterwarnings('ignore')"
   ],
   "outputs": [],
   "metadata": {}
  },
  {
   "cell_type": "code",
   "execution_count": 85,
   "source": [
    "disasterCostData = \"../ml/data/costDataRevised.csv\"\r\n",
    "cost_df = pd.read_csv(disasterCostData)\r\n",
    "cost_df.head()"
   ],
   "outputs": [
    {
     "output_type": "execute_result",
     "data": {
      "text/plain": [
       "   Unnamed: 0  disasterNumber  obligationAmount state   incidentType  \\\n",
       "0           0            3345         904490.14    WV  Severe Storms   \n",
       "1           1            3346         842464.67    OH  Severe Storms   \n",
       "2           2            3347        1409793.92    LA      Hurricane   \n",
       "3           3            3348         253189.73    MS      Hurricane   \n",
       "4           4            3349              0.00    MD      Hurricane   \n",
       "\n",
       "       declarationTitle         incidentBeginDate        lat        lon  \\\n",
       "0         SEVERE STORMS  2012-06-29T22:30:00.000Z  39.453524 -78.039552   \n",
       "1         SEVERE STORMS  2012-06-29T22:00:00.000Z  38.839894 -83.505170   \n",
       "2  TROPICAL STORM ISAAC  2012-08-26T00:00:00.000Z  30.211644 -90.918610   \n",
       "3  TROPICAL STORM ISAAC  2012-08-26T00:00:00.000Z  33.077787 -89.568066   \n",
       "4       HURRICANE SANDY  2012-10-26T15:36:00.000Z  38.528853 -76.537764   \n",
       "\n",
       "  incidentDate   incidentTime  \n",
       "0   2012-06-29  22:30:00.000Z  \n",
       "1   2012-06-29  22:00:00.000Z  \n",
       "2   2012-08-26  00:00:00.000Z  \n",
       "3   2012-08-26  00:00:00.000Z  \n",
       "4   2012-10-26  15:36:00.000Z  "
      ],
      "text/html": [
       "<div>\n",
       "<style scoped>\n",
       "    .dataframe tbody tr th:only-of-type {\n",
       "        vertical-align: middle;\n",
       "    }\n",
       "\n",
       "    .dataframe tbody tr th {\n",
       "        vertical-align: top;\n",
       "    }\n",
       "\n",
       "    .dataframe thead th {\n",
       "        text-align: right;\n",
       "    }\n",
       "</style>\n",
       "<table border=\"1\" class=\"dataframe\">\n",
       "  <thead>\n",
       "    <tr style=\"text-align: right;\">\n",
       "      <th></th>\n",
       "      <th>Unnamed: 0</th>\n",
       "      <th>disasterNumber</th>\n",
       "      <th>obligationAmount</th>\n",
       "      <th>state</th>\n",
       "      <th>incidentType</th>\n",
       "      <th>declarationTitle</th>\n",
       "      <th>incidentBeginDate</th>\n",
       "      <th>lat</th>\n",
       "      <th>lon</th>\n",
       "      <th>incidentDate</th>\n",
       "      <th>incidentTime</th>\n",
       "    </tr>\n",
       "  </thead>\n",
       "  <tbody>\n",
       "    <tr>\n",
       "      <th>0</th>\n",
       "      <td>0</td>\n",
       "      <td>3345</td>\n",
       "      <td>904490.14</td>\n",
       "      <td>WV</td>\n",
       "      <td>Severe Storms</td>\n",
       "      <td>SEVERE STORMS</td>\n",
       "      <td>2012-06-29T22:30:00.000Z</td>\n",
       "      <td>39.453524</td>\n",
       "      <td>-78.039552</td>\n",
       "      <td>2012-06-29</td>\n",
       "      <td>22:30:00.000Z</td>\n",
       "    </tr>\n",
       "    <tr>\n",
       "      <th>1</th>\n",
       "      <td>1</td>\n",
       "      <td>3346</td>\n",
       "      <td>842464.67</td>\n",
       "      <td>OH</td>\n",
       "      <td>Severe Storms</td>\n",
       "      <td>SEVERE STORMS</td>\n",
       "      <td>2012-06-29T22:00:00.000Z</td>\n",
       "      <td>38.839894</td>\n",
       "      <td>-83.505170</td>\n",
       "      <td>2012-06-29</td>\n",
       "      <td>22:00:00.000Z</td>\n",
       "    </tr>\n",
       "    <tr>\n",
       "      <th>2</th>\n",
       "      <td>2</td>\n",
       "      <td>3347</td>\n",
       "      <td>1409793.92</td>\n",
       "      <td>LA</td>\n",
       "      <td>Hurricane</td>\n",
       "      <td>TROPICAL STORM ISAAC</td>\n",
       "      <td>2012-08-26T00:00:00.000Z</td>\n",
       "      <td>30.211644</td>\n",
       "      <td>-90.918610</td>\n",
       "      <td>2012-08-26</td>\n",
       "      <td>00:00:00.000Z</td>\n",
       "    </tr>\n",
       "    <tr>\n",
       "      <th>3</th>\n",
       "      <td>3</td>\n",
       "      <td>3348</td>\n",
       "      <td>253189.73</td>\n",
       "      <td>MS</td>\n",
       "      <td>Hurricane</td>\n",
       "      <td>TROPICAL STORM ISAAC</td>\n",
       "      <td>2012-08-26T00:00:00.000Z</td>\n",
       "      <td>33.077787</td>\n",
       "      <td>-89.568066</td>\n",
       "      <td>2012-08-26</td>\n",
       "      <td>00:00:00.000Z</td>\n",
       "    </tr>\n",
       "    <tr>\n",
       "      <th>4</th>\n",
       "      <td>4</td>\n",
       "      <td>3349</td>\n",
       "      <td>0.00</td>\n",
       "      <td>MD</td>\n",
       "      <td>Hurricane</td>\n",
       "      <td>HURRICANE SANDY</td>\n",
       "      <td>2012-10-26T15:36:00.000Z</td>\n",
       "      <td>38.528853</td>\n",
       "      <td>-76.537764</td>\n",
       "      <td>2012-10-26</td>\n",
       "      <td>15:36:00.000Z</td>\n",
       "    </tr>\n",
       "  </tbody>\n",
       "</table>\n",
       "</div>"
      ]
     },
     "metadata": {},
     "execution_count": 85
    }
   ],
   "metadata": {}
  },
  {
   "cell_type": "code",
   "execution_count": 91,
   "source": [
    "weather_data = []\r\n",
    "for index, row in cost_df.iterrows():\r\n",
    "    lat = row['lat'] \r\n",
    "    lon = row['lon']\r\n",
    "    date = row['incidentDate']\r\n",
    "    #lat = 39.4535243\r\n",
    "    #lon = -78.0395522\r\n",
    "    #date = '2012-06-29'\r\n",
    "    url = f'https://weather.visualcrossing.com/VisualCrossingWebServices/rest/services/timeline/{lat}%2C{lon}/{date}?unitGroup=us&key=WAH7SGPNNNY6MRXZ7KYSSKC8M&include=obs'\r\n",
    "    response = requests.get(url)\r\n",
    "    weather_data.append(response.json())\r\n"
   ],
   "outputs": [],
   "metadata": {}
  },
  {
   "cell_type": "code",
   "execution_count": 95,
   "source": [
    "df = pd.json_normalize(\r\n",
    "    weather_data, \r\n",
    "    record_path =['days'], \r\n",
    "    meta=['latitude','longitude','resolvedAddress']\r\n",
    ")"
   ],
   "outputs": [],
   "metadata": {}
  },
  {
   "cell_type": "code",
   "execution_count": 107,
   "source": [
    "disaster = cost_df['disasterNumber'].to_list()"
   ],
   "outputs": [],
   "metadata": {}
  },
  {
   "cell_type": "code",
   "execution_count": 109,
   "source": [
    "df['disasterNumber'] = disaster"
   ],
   "outputs": [],
   "metadata": {}
  },
  {
   "cell_type": "code",
   "execution_count": 111,
   "source": [
    "merged_weather_data = pd.merge(df, cost_df, how='inner',on='disasterNumber')"
   ],
   "outputs": [],
   "metadata": {}
  },
  {
   "cell_type": "code",
   "execution_count": 117,
   "source": [
    "merged_weather_data_cleanded = merged_weather_data.drop(columns=['precipprob','preciptype','solarradiation','solarenergy','uvindex','Unnamed: 0'])"
   ],
   "outputs": [],
   "metadata": {}
  },
  {
   "cell_type": "code",
   "execution_count": 118,
   "source": [
    "merged_weather_data.to_csv('../ml/data/disasterWeather.csv')"
   ],
   "outputs": [],
   "metadata": {}
  },
  {
   "cell_type": "code",
   "execution_count": null,
   "source": [],
   "outputs": [],
   "metadata": {}
  }
 ],
 "metadata": {
  "orig_nbformat": 4,
  "language_info": {
   "name": "python",
   "version": "3.8.5",
   "mimetype": "text/x-python",
   "codemirror_mode": {
    "name": "ipython",
    "version": 3
   },
   "pygments_lexer": "ipython3",
   "nbconvert_exporter": "python",
   "file_extension": ".py"
  },
  "kernelspec": {
   "name": "python3",
   "display_name": "Python 3.8.5 64-bit ('base': conda)"
  },
  "interpreter": {
   "hash": "8d4abf1b7acf6c08228572b93ea2ea3f8ac026ef543e5c7962f606e9aa6c2e53"
  }
 },
 "nbformat": 4,
 "nbformat_minor": 2
}