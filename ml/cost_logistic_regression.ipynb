{
 "cells": [
  {
   "cell_type": "code",
   "execution_count": 1,
   "metadata": {},
   "outputs": [],
   "source": [
    "%matplotlib inline\n",
    "import matplotlib.pyplot as plt\n",
    "import numpy as np\n",
    "import pandas as pd\n",
    "import warnings\n",
    "warnings.filterwarnings('ignore')"
   ]
  },
  {
   "cell_type": "code",
   "execution_count": 50,
   "metadata": {},
   "outputs": [
    {
     "data": {
      "text/html": [
       "<div>\n",
       "<style scoped>\n",
       "    .dataframe tbody tr th:only-of-type {\n",
       "        vertical-align: middle;\n",
       "    }\n",
       "\n",
       "    .dataframe tbody tr th {\n",
       "        vertical-align: top;\n",
       "    }\n",
       "\n",
       "    .dataframe thead th {\n",
       "        text-align: right;\n",
       "    }\n",
       "</style>\n",
       "<table border=\"1\" class=\"dataframe\">\n",
       "  <thead>\n",
       "    <tr style=\"text-align: right;\">\n",
       "      <th></th>\n",
       "      <th>Unnamed: 0</th>\n",
       "      <th>disasterNumber</th>\n",
       "      <th>obligationAmount</th>\n",
       "      <th>state</th>\n",
       "      <th>incidentType</th>\n",
       "      <th>declarationTitle</th>\n",
       "      <th>incidentBeginDate</th>\n",
       "      <th>lat</th>\n",
       "      <th>lon</th>\n",
       "      <th>incidentDate</th>\n",
       "      <th>incidentTime</th>\n",
       "    </tr>\n",
       "  </thead>\n",
       "  <tbody>\n",
       "    <tr>\n",
       "      <th>0</th>\n",
       "      <td>0</td>\n",
       "      <td>3345</td>\n",
       "      <td>904490.14</td>\n",
       "      <td>WV</td>\n",
       "      <td>Severe Storms</td>\n",
       "      <td>SEVERE STORMS</td>\n",
       "      <td>2012-06-29T22:30:00.000Z</td>\n",
       "      <td>39.453524</td>\n",
       "      <td>-78.039552</td>\n",
       "      <td>2012-06-29</td>\n",
       "      <td>22:30:00.000Z</td>\n",
       "    </tr>\n",
       "    <tr>\n",
       "      <th>1</th>\n",
       "      <td>1</td>\n",
       "      <td>3346</td>\n",
       "      <td>842464.67</td>\n",
       "      <td>OH</td>\n",
       "      <td>Severe Storms</td>\n",
       "      <td>SEVERE STORMS</td>\n",
       "      <td>2012-06-29T22:00:00.000Z</td>\n",
       "      <td>38.839894</td>\n",
       "      <td>-83.505170</td>\n",
       "      <td>2012-06-29</td>\n",
       "      <td>22:00:00.000Z</td>\n",
       "    </tr>\n",
       "    <tr>\n",
       "      <th>2</th>\n",
       "      <td>2</td>\n",
       "      <td>3347</td>\n",
       "      <td>1409793.92</td>\n",
       "      <td>LA</td>\n",
       "      <td>Hurricane</td>\n",
       "      <td>TROPICAL STORM ISAAC</td>\n",
       "      <td>2012-08-26T00:00:00.000Z</td>\n",
       "      <td>30.211644</td>\n",
       "      <td>-90.918610</td>\n",
       "      <td>2012-08-26</td>\n",
       "      <td>00:00:00.000Z</td>\n",
       "    </tr>\n",
       "    <tr>\n",
       "      <th>3</th>\n",
       "      <td>3</td>\n",
       "      <td>3348</td>\n",
       "      <td>253189.73</td>\n",
       "      <td>MS</td>\n",
       "      <td>Hurricane</td>\n",
       "      <td>TROPICAL STORM ISAAC</td>\n",
       "      <td>2012-08-26T00:00:00.000Z</td>\n",
       "      <td>33.077787</td>\n",
       "      <td>-89.568066</td>\n",
       "      <td>2012-08-26</td>\n",
       "      <td>00:00:00.000Z</td>\n",
       "    </tr>\n",
       "    <tr>\n",
       "      <th>4</th>\n",
       "      <td>4</td>\n",
       "      <td>3349</td>\n",
       "      <td>0.00</td>\n",
       "      <td>MD</td>\n",
       "      <td>Hurricane</td>\n",
       "      <td>HURRICANE SANDY</td>\n",
       "      <td>2012-10-26T15:36:00.000Z</td>\n",
       "      <td>38.528853</td>\n",
       "      <td>-76.537764</td>\n",
       "      <td>2012-10-26</td>\n",
       "      <td>15:36:00.000Z</td>\n",
       "    </tr>\n",
       "  </tbody>\n",
       "</table>\n",
       "</div>"
      ],
      "text/plain": [
       "   Unnamed: 0  disasterNumber  obligationAmount state   incidentType  \\\n",
       "0           0            3345         904490.14    WV  Severe Storms   \n",
       "1           1            3346         842464.67    OH  Severe Storms   \n",
       "2           2            3347        1409793.92    LA      Hurricane   \n",
       "3           3            3348         253189.73    MS      Hurricane   \n",
       "4           4            3349              0.00    MD      Hurricane   \n",
       "\n",
       "       declarationTitle         incidentBeginDate        lat        lon  \\\n",
       "0         SEVERE STORMS  2012-06-29T22:30:00.000Z  39.453524 -78.039552   \n",
       "1         SEVERE STORMS  2012-06-29T22:00:00.000Z  38.839894 -83.505170   \n",
       "2  TROPICAL STORM ISAAC  2012-08-26T00:00:00.000Z  30.211644 -90.918610   \n",
       "3  TROPICAL STORM ISAAC  2012-08-26T00:00:00.000Z  33.077787 -89.568066   \n",
       "4       HURRICANE SANDY  2012-10-26T15:36:00.000Z  38.528853 -76.537764   \n",
       "\n",
       "  incidentDate   incidentTime  \n",
       "0   2012-06-29  22:30:00.000Z  \n",
       "1   2012-06-29  22:00:00.000Z  \n",
       "2   2012-08-26  00:00:00.000Z  \n",
       "3   2012-08-26  00:00:00.000Z  \n",
       "4   2012-10-26  15:36:00.000Z  "
      ]
     },
     "execution_count": 50,
     "metadata": {},
     "output_type": "execute_result"
    }
   ],
   "source": [
    "costData = pd.read_csv('data\\costDataRevised.csv')\n",
    "costData.head()"
   ]
  },
  {
   "cell_type": "code",
   "execution_count": 65,
   "metadata": {},
   "outputs": [
    {
     "data": {
      "text/html": [
       "<div>\n",
       "<style scoped>\n",
       "    .dataframe tbody tr th:only-of-type {\n",
       "        vertical-align: middle;\n",
       "    }\n",
       "\n",
       "    .dataframe tbody tr th {\n",
       "        vertical-align: top;\n",
       "    }\n",
       "\n",
       "    .dataframe thead th {\n",
       "        text-align: right;\n",
       "    }\n",
       "</style>\n",
       "<table border=\"1\" class=\"dataframe\">\n",
       "  <thead>\n",
       "    <tr style=\"text-align: right;\">\n",
       "      <th></th>\n",
       "      <th>obligationAmount</th>\n",
       "      <th>incidentType</th>\n",
       "    </tr>\n",
       "  </thead>\n",
       "  <tbody>\n",
       "    <tr>\n",
       "      <th>0</th>\n",
       "      <td>904490.14</td>\n",
       "      <td>Severe Storms</td>\n",
       "    </tr>\n",
       "    <tr>\n",
       "      <th>1</th>\n",
       "      <td>842464.67</td>\n",
       "      <td>Severe Storms</td>\n",
       "    </tr>\n",
       "    <tr>\n",
       "      <th>2</th>\n",
       "      <td>1409793.92</td>\n",
       "      <td>Hurricane</td>\n",
       "    </tr>\n",
       "    <tr>\n",
       "      <th>3</th>\n",
       "      <td>253189.73</td>\n",
       "      <td>Hurricane</td>\n",
       "    </tr>\n",
       "    <tr>\n",
       "      <th>4</th>\n",
       "      <td>0.00</td>\n",
       "      <td>Hurricane</td>\n",
       "    </tr>\n",
       "  </tbody>\n",
       "</table>\n",
       "</div>"
      ],
      "text/plain": [
       "   obligationAmount   incidentType\n",
       "0         904490.14  Severe Storms\n",
       "1         842464.67  Severe Storms\n",
       "2        1409793.92      Hurricane\n",
       "3         253189.73      Hurricane\n",
       "4              0.00      Hurricane"
      ]
     },
     "execution_count": 65,
     "metadata": {},
     "output_type": "execute_result"
    }
   ],
   "source": [
    "incidentCost = costData[['obligationAmount', 'incidentType']]\n",
    "#incidentCost.rename(columns={'obligationAmount':'fema_payout'},inplace=True)\n",
    "pd.set_option('display.float_format', '{:.2f}'.format)\n",
    "incidentCost['obligationAmount'] = incidentCost['obligationAmount'].astype('float')\n",
    "incidentCost.head()"
   ]
  },
  {
   "cell_type": "code",
   "execution_count": 66,
   "metadata": {},
   "outputs": [
    {
     "name": "stdout",
     "output_type": "stream",
     "text": [
      "131394.25\n"
     ]
    }
   ],
   "source": [
    "median = incidentCost['obligationAmount'].median()\n",
    "print(median)"
   ]
  },
  {
   "cell_type": "code",
   "execution_count": 67,
   "metadata": {},
   "outputs": [
    {
     "data": {
      "text/plain": [
       "count         325.00\n",
       "mean      8979445.36\n",
       "std      55719404.17\n",
       "min            -0.00\n",
       "25%         10000.00\n",
       "50%        131394.25\n",
       "75%        842464.67\n",
       "max     749221406.71\n",
       "Name: obligationAmount, dtype: float64"
      ]
     },
     "execution_count": 67,
     "metadata": {},
     "output_type": "execute_result"
    }
   ],
   "source": [
    "incidentCost['obligationAmount'].describe()\n"
   ]
  },
  {
   "cell_type": "code",
   "execution_count": 68,
   "metadata": {},
   "outputs": [
    {
     "data": {
      "text/plain": [
       "<AxesSubplot:>"
      ]
     },
     "execution_count": 68,
     "metadata": {},
     "output_type": "execute_result"
    },
    {
     "data": {
      "image/png": "[encoded data removed]",
      "text/plain": [
       "<Figure size 432x288 with 1 Axes>"
      ]
     },
     "metadata": {
      "needs_background": "light"
     },
     "output_type": "display_data"
    }
   ],
   "source": [
    "incidentCost['obligationAmount'].hist(bins=100)"
   ]
  },
  {
   "cell_type": "code",
   "execution_count": 55,
   "metadata": {},
   "outputs": [
    {
     "data": {
      "text/plain": [
       "obligationAmount    float64\n",
       "incidentType         object\n",
       "dtype: object"
      ]
     },
     "execution_count": 55,
     "metadata": {},
     "output_type": "execute_result"
    }
   ],
   "source": [
    "incidentCost.dtypes"
   ]
  },
  {
   "cell_type": "code",
   "execution_count": 5,
   "metadata": {},
   "outputs": [
    {
     "data": {
      "text/html": [
       "<div>\n",
       "<style scoped>\n",
       "    .dataframe tbody tr th:only-of-type {\n",
       "        vertical-align: middle;\n",
       "    }\n",
       "\n",
       "    .dataframe tbody tr th {\n",
       "        vertical-align: top;\n",
       "    }\n",
       "\n",
       "    .dataframe thead th {\n",
       "        text-align: right;\n",
       "    }\n",
       "</style>\n",
       "<table border=\"1\" class=\"dataframe\">\n",
       "  <thead>\n",
       "    <tr style=\"text-align: right;\">\n",
       "      <th></th>\n",
       "      <th>obligationAmount</th>\n",
       "      <th>incidentType</th>\n",
       "      <th>high_low</th>\n",
       "    </tr>\n",
       "  </thead>\n",
       "  <tbody>\n",
       "    <tr>\n",
       "      <th>0</th>\n",
       "      <td>904490.14</td>\n",
       "      <td>Severe Storms</td>\n",
       "      <td>high</td>\n",
       "    </tr>\n",
       "    <tr>\n",
       "      <th>1</th>\n",
       "      <td>842464.67</td>\n",
       "      <td>Severe Storms</td>\n",
       "      <td>high</td>\n",
       "    </tr>\n",
       "    <tr>\n",
       "      <th>2</th>\n",
       "      <td>1409793.92</td>\n",
       "      <td>Hurricane</td>\n",
       "      <td>high</td>\n",
       "    </tr>\n",
       "    <tr>\n",
       "      <th>3</th>\n",
       "      <td>253189.73</td>\n",
       "      <td>Hurricane</td>\n",
       "      <td>high</td>\n",
       "    </tr>\n",
       "    <tr>\n",
       "      <th>4</th>\n",
       "      <td>0.00</td>\n",
       "      <td>Hurricane</td>\n",
       "      <td>low</td>\n",
       "    </tr>\n",
       "  </tbody>\n",
       "</table>\n",
       "</div>"
      ],
      "text/plain": [
       "   obligationAmount   incidentType high_low\n",
       "0         904490.14  Severe Storms     high\n",
       "1         842464.67  Severe Storms     high\n",
       "2        1409793.92      Hurricane     high\n",
       "3         253189.73      Hurricane     high\n",
       "4              0.00      Hurricane      low"
      ]
     },
     "execution_count": 5,
     "metadata": {},
     "output_type": "execute_result"
    }
   ],
   "source": [
    "incidentCost.loc[incidentCost['obligationAmount'] > median, 'high_low'] = 'high'\n",
    "incidentCost.loc[incidentCost['obligationAmount'] < median, 'high_low'] = 'low'\n",
    "\n",
    "incidentCost.head()"
   ]
  },
  {
   "cell_type": "code",
   "execution_count": 6,
   "metadata": {},
   "outputs": [
    {
     "data": {
      "text/html": [
       "<div>\n",
       "<style scoped>\n",
       "    .dataframe tbody tr th:only-of-type {\n",
       "        vertical-align: middle;\n",
       "    }\n",
       "\n",
       "    .dataframe tbody tr th {\n",
       "        vertical-align: top;\n",
       "    }\n",
       "\n",
       "    .dataframe thead th {\n",
       "        text-align: right;\n",
       "    }\n",
       "</style>\n",
       "<table border=\"1\" class=\"dataframe\">\n",
       "  <thead>\n",
       "    <tr style=\"text-align: right;\">\n",
       "      <th></th>\n",
       "      <th>obligationAmount</th>\n",
       "      <th>incidentType_Coastal Storm</th>\n",
       "      <th>incidentType_Earthquake</th>\n",
       "      <th>incidentType_Fire</th>\n",
       "      <th>incidentType_Flood</th>\n",
       "      <th>incidentType_Hurricane</th>\n",
       "      <th>incidentType_Mud/Landslide</th>\n",
       "      <th>incidentType_Severe Ice Storm</th>\n",
       "      <th>incidentType_Severe Storms</th>\n",
       "      <th>incidentType_Snow</th>\n",
       "      <th>incidentType_Tornado</th>\n",
       "      <th>incidentType_Volcano</th>\n",
       "      <th>high_low_high</th>\n",
       "      <th>high_low_low</th>\n",
       "    </tr>\n",
       "  </thead>\n",
       "  <tbody>\n",
       "    <tr>\n",
       "      <th>0</th>\n",
       "      <td>904490.14</td>\n",
       "      <td>0</td>\n",
       "      <td>0</td>\n",
       "      <td>0</td>\n",
       "      <td>0</td>\n",
       "      <td>0</td>\n",
       "      <td>0</td>\n",
       "      <td>0</td>\n",
       "      <td>1</td>\n",
       "      <td>0</td>\n",
       "      <td>0</td>\n",
       "      <td>0</td>\n",
       "      <td>1</td>\n",
       "      <td>0</td>\n",
       "    </tr>\n",
       "    <tr>\n",
       "      <th>1</th>\n",
       "      <td>842464.67</td>\n",
       "      <td>0</td>\n",
       "      <td>0</td>\n",
       "      <td>0</td>\n",
       "      <td>0</td>\n",
       "      <td>0</td>\n",
       "      <td>0</td>\n",
       "      <td>0</td>\n",
       "      <td>1</td>\n",
       "      <td>0</td>\n",
       "      <td>0</td>\n",
       "      <td>0</td>\n",
       "      <td>1</td>\n",
       "      <td>0</td>\n",
       "    </tr>\n",
       "    <tr>\n",
       "      <th>2</th>\n",
       "      <td>1409793.92</td>\n",
       "      <td>0</td>\n",
       "      <td>0</td>\n",
       "      <td>0</td>\n",
       "      <td>0</td>\n",
       "      <td>1</td>\n",
       "      <td>0</td>\n",
       "      <td>0</td>\n",
       "      <td>0</td>\n",
       "      <td>0</td>\n",
       "      <td>0</td>\n",
       "      <td>0</td>\n",
       "      <td>1</td>\n",
       "      <td>0</td>\n",
       "    </tr>\n",
       "    <tr>\n",
       "      <th>3</th>\n",
       "      <td>253189.73</td>\n",
       "      <td>0</td>\n",
       "      <td>0</td>\n",
       "      <td>0</td>\n",
       "      <td>0</td>\n",
       "      <td>1</td>\n",
       "      <td>0</td>\n",
       "      <td>0</td>\n",
       "      <td>0</td>\n",
       "      <td>0</td>\n",
       "      <td>0</td>\n",
       "      <td>0</td>\n",
       "      <td>1</td>\n",
       "      <td>0</td>\n",
       "    </tr>\n",
       "    <tr>\n",
       "      <th>4</th>\n",
       "      <td>0.00</td>\n",
       "      <td>0</td>\n",
       "      <td>0</td>\n",
       "      <td>0</td>\n",
       "      <td>0</td>\n",
       "      <td>1</td>\n",
       "      <td>0</td>\n",
       "      <td>0</td>\n",
       "      <td>0</td>\n",
       "      <td>0</td>\n",
       "      <td>0</td>\n",
       "      <td>0</td>\n",
       "      <td>0</td>\n",
       "      <td>1</td>\n",
       "    </tr>\n",
       "  </tbody>\n",
       "</table>\n",
       "</div>"
      ],
      "text/plain": [
       "   obligationAmount  incidentType_Coastal Storm  incidentType_Earthquake  \\\n",
       "0         904490.14                           0                        0   \n",
       "1         842464.67                           0                        0   \n",
       "2        1409793.92                           0                        0   \n",
       "3         253189.73                           0                        0   \n",
       "4              0.00                           0                        0   \n",
       "\n",
       "   incidentType_Fire  incidentType_Flood  incidentType_Hurricane  \\\n",
       "0                  0                   0                       0   \n",
       "1                  0                   0                       0   \n",
       "2                  0                   0                       1   \n",
       "3                  0                   0                       1   \n",
       "4                  0                   0                       1   \n",
       "\n",
       "   incidentType_Mud/Landslide  incidentType_Severe Ice Storm  \\\n",
       "0                           0                              0   \n",
       "1                           0                              0   \n",
       "2                           0                              0   \n",
       "3                           0                              0   \n",
       "4                           0                              0   \n",
       "\n",
       "   incidentType_Severe Storms  incidentType_Snow  incidentType_Tornado  \\\n",
       "0                           1                  0                     0   \n",
       "1                           1                  0                     0   \n",
       "2                           0                  0                     0   \n",
       "3                           0                  0                     0   \n",
       "4                           0                  0                     0   \n",
       "\n",
       "   incidentType_Volcano  high_low_high  high_low_low  \n",
       "0                     0              1             0  \n",
       "1                     0              1             0  \n",
       "2                     0              1             0  \n",
       "3                     0              1             0  \n",
       "4                     0              0             1  "
      ]
     },
     "execution_count": 6,
     "metadata": {},
     "output_type": "execute_result"
    }
   ],
   "source": [
    "incidentCost = pd.get_dummies(incidentCost)\n",
    "\n",
    "incidentCost.head()"
   ]
  },
  {
   "cell_type": "code",
   "execution_count": 7,
   "metadata": {},
   "outputs": [
    {
     "data": {
      "text/html": [
       "<div>\n",
       "<style scoped>\n",
       "    .dataframe tbody tr th:only-of-type {\n",
       "        vertical-align: middle;\n",
       "    }\n",
       "\n",
       "    .dataframe tbody tr th {\n",
       "        vertical-align: top;\n",
       "    }\n",
       "\n",
       "    .dataframe thead th {\n",
       "        text-align: right;\n",
       "    }\n",
       "</style>\n",
       "<table border=\"1\" class=\"dataframe\">\n",
       "  <thead>\n",
       "    <tr style=\"text-align: right;\">\n",
       "      <th></th>\n",
       "      <th>fema_payout</th>\n",
       "      <th>coastal_storm</th>\n",
       "      <th>earthquake</th>\n",
       "      <th>fire</th>\n",
       "      <th>flood</th>\n",
       "      <th>hurrincane</th>\n",
       "      <th>mud_landslide</th>\n",
       "      <th>severe_ice_storm</th>\n",
       "      <th>severe_storms</th>\n",
       "      <th>snow</th>\n",
       "      <th>tornado</th>\n",
       "      <th>volcano</th>\n",
       "      <th>high_cost</th>\n",
       "      <th>low_cost</th>\n",
       "    </tr>\n",
       "  </thead>\n",
       "  <tbody>\n",
       "    <tr>\n",
       "      <th>0</th>\n",
       "      <td>904490.14</td>\n",
       "      <td>0</td>\n",
       "      <td>0</td>\n",
       "      <td>0</td>\n",
       "      <td>0</td>\n",
       "      <td>0</td>\n",
       "      <td>0</td>\n",
       "      <td>0</td>\n",
       "      <td>1</td>\n",
       "      <td>0</td>\n",
       "      <td>0</td>\n",
       "      <td>0</td>\n",
       "      <td>1</td>\n",
       "      <td>0</td>\n",
       "    </tr>\n",
       "    <tr>\n",
       "      <th>1</th>\n",
       "      <td>842464.67</td>\n",
       "      <td>0</td>\n",
       "      <td>0</td>\n",
       "      <td>0</td>\n",
       "      <td>0</td>\n",
       "      <td>0</td>\n",
       "      <td>0</td>\n",
       "      <td>0</td>\n",
       "      <td>1</td>\n",
       "      <td>0</td>\n",
       "      <td>0</td>\n",
       "      <td>0</td>\n",
       "      <td>1</td>\n",
       "      <td>0</td>\n",
       "    </tr>\n",
       "    <tr>\n",
       "      <th>2</th>\n",
       "      <td>1409793.92</td>\n",
       "      <td>0</td>\n",
       "      <td>0</td>\n",
       "      <td>0</td>\n",
       "      <td>0</td>\n",
       "      <td>1</td>\n",
       "      <td>0</td>\n",
       "      <td>0</td>\n",
       "      <td>0</td>\n",
       "      <td>0</td>\n",
       "      <td>0</td>\n",
       "      <td>0</td>\n",
       "      <td>1</td>\n",
       "      <td>0</td>\n",
       "    </tr>\n",
       "    <tr>\n",
       "      <th>3</th>\n",
       "      <td>253189.73</td>\n",
       "      <td>0</td>\n",
       "      <td>0</td>\n",
       "      <td>0</td>\n",
       "      <td>0</td>\n",
       "      <td>1</td>\n",
       "      <td>0</td>\n",
       "      <td>0</td>\n",
       "      <td>0</td>\n",
       "      <td>0</td>\n",
       "      <td>0</td>\n",
       "      <td>0</td>\n",
       "      <td>1</td>\n",
       "      <td>0</td>\n",
       "    </tr>\n",
       "    <tr>\n",
       "      <th>4</th>\n",
       "      <td>0.00</td>\n",
       "      <td>0</td>\n",
       "      <td>0</td>\n",
       "      <td>0</td>\n",
       "      <td>0</td>\n",
       "      <td>1</td>\n",
       "      <td>0</td>\n",
       "      <td>0</td>\n",
       "      <td>0</td>\n",
       "      <td>0</td>\n",
       "      <td>0</td>\n",
       "      <td>0</td>\n",
       "      <td>0</td>\n",
       "      <td>1</td>\n",
       "    </tr>\n",
       "  </tbody>\n",
       "</table>\n",
       "</div>"
      ],
      "text/plain": [
       "   fema_payout  coastal_storm  earthquake  fire  flood  hurrincane  \\\n",
       "0    904490.14              0           0     0      0           0   \n",
       "1    842464.67              0           0     0      0           0   \n",
       "2   1409793.92              0           0     0      0           1   \n",
       "3    253189.73              0           0     0      0           1   \n",
       "4         0.00              0           0     0      0           1   \n",
       "\n",
       "   mud_landslide  severe_ice_storm  severe_storms  snow  tornado  volcano  \\\n",
       "0              0                 0              1     0        0        0   \n",
       "1              0                 0              1     0        0        0   \n",
       "2              0                 0              0     0        0        0   \n",
       "3              0                 0              0     0        0        0   \n",
       "4              0                 0              0     0        0        0   \n",
       "\n",
       "   high_cost  low_cost  \n",
       "0          1         0  \n",
       "1          1         0  \n",
       "2          1         0  \n",
       "3          1         0  \n",
       "4          0         1  "
      ]
     },
     "execution_count": 7,
     "metadata": {},
     "output_type": "execute_result"
    }
   ],
   "source": [
    "incidentCost.rename(columns={'incidentType_Coastal Storm': 'coastal_storm',\n",
    "                            'incidentType_Earthquake':'earthquake',\n",
    "                            'incidentType_Hurricane':'hurrincane',\n",
    "                            'incidentType_Fire':'fire',\n",
    "                            'incidentType_Flood':'flood',\n",
    "                            'incidentType_Mud/Landslide':'mud_landslide',\n",
    "                            'incidentType_Severe Ice Storm':'severe_ice_storm',\n",
    "                            'incidentType_Snow':'snow',\n",
    "                            'incidentType_Tornado':'tornado',\n",
    "                            'incidentType_Volcano':'volcano',\n",
    "                            'incidentType_Severe Storms':'severe_storms',\n",
    "                            'high_low_high':'high_cost',\n",
    "                            'high_low_low':'low_cost',\n",
    "                            'obligationAmount':'fema_payout'},inplace=True)\n",
    "\n",
    "incidentCost.head()"
   ]
  },
  {
   "cell_type": "code",
   "execution_count": 8,
   "metadata": {},
   "outputs": [
    {
     "data": {
      "text/html": [
       "<div>\n",
       "<style scoped>\n",
       "    .dataframe tbody tr th:only-of-type {\n",
       "        vertical-align: middle;\n",
       "    }\n",
       "\n",
       "    .dataframe tbody tr th {\n",
       "        vertical-align: top;\n",
       "    }\n",
       "\n",
       "    .dataframe thead th {\n",
       "        text-align: right;\n",
       "    }\n",
       "</style>\n",
       "<table border=\"1\" class=\"dataframe\">\n",
       "  <thead>\n",
       "    <tr style=\"text-align: right;\">\n",
       "      <th></th>\n",
       "      <th>fema_payout</th>\n",
       "      <th>coastal_storm</th>\n",
       "      <th>earthquake</th>\n",
       "      <th>fire</th>\n",
       "      <th>flood</th>\n",
       "      <th>hurrincane</th>\n",
       "      <th>mud_landslide</th>\n",
       "      <th>severe_ice_storm</th>\n",
       "      <th>severe_storms</th>\n",
       "      <th>snow</th>\n",
       "      <th>tornado</th>\n",
       "      <th>volcano</th>\n",
       "      <th>high_cost</th>\n",
       "    </tr>\n",
       "  </thead>\n",
       "  <tbody>\n",
       "    <tr>\n",
       "      <th>0</th>\n",
       "      <td>904490.14</td>\n",
       "      <td>0</td>\n",
       "      <td>0</td>\n",
       "      <td>0</td>\n",
       "      <td>0</td>\n",
       "      <td>0</td>\n",
       "      <td>0</td>\n",
       "      <td>0</td>\n",
       "      <td>1</td>\n",
       "      <td>0</td>\n",
       "      <td>0</td>\n",
       "      <td>0</td>\n",
       "      <td>1</td>\n",
       "    </tr>\n",
       "    <tr>\n",
       "      <th>1</th>\n",
       "      <td>842464.67</td>\n",
       "      <td>0</td>\n",
       "      <td>0</td>\n",
       "      <td>0</td>\n",
       "      <td>0</td>\n",
       "      <td>0</td>\n",
       "      <td>0</td>\n",
       "      <td>0</td>\n",
       "      <td>1</td>\n",
       "      <td>0</td>\n",
       "      <td>0</td>\n",
       "      <td>0</td>\n",
       "      <td>1</td>\n",
       "    </tr>\n",
       "    <tr>\n",
       "      <th>2</th>\n",
       "      <td>1409793.92</td>\n",
       "      <td>0</td>\n",
       "      <td>0</td>\n",
       "      <td>0</td>\n",
       "      <td>0</td>\n",
       "      <td>1</td>\n",
       "      <td>0</td>\n",
       "      <td>0</td>\n",
       "      <td>0</td>\n",
       "      <td>0</td>\n",
       "      <td>0</td>\n",
       "      <td>0</td>\n",
       "      <td>1</td>\n",
       "    </tr>\n",
       "    <tr>\n",
       "      <th>3</th>\n",
       "      <td>253189.73</td>\n",
       "      <td>0</td>\n",
       "      <td>0</td>\n",
       "      <td>0</td>\n",
       "      <td>0</td>\n",
       "      <td>1</td>\n",
       "      <td>0</td>\n",
       "      <td>0</td>\n",
       "      <td>0</td>\n",
       "      <td>0</td>\n",
       "      <td>0</td>\n",
       "      <td>0</td>\n",
       "      <td>1</td>\n",
       "    </tr>\n",
       "    <tr>\n",
       "      <th>4</th>\n",
       "      <td>0.00</td>\n",
       "      <td>0</td>\n",
       "      <td>0</td>\n",
       "      <td>0</td>\n",
       "      <td>0</td>\n",
       "      <td>1</td>\n",
       "      <td>0</td>\n",
       "      <td>0</td>\n",
       "      <td>0</td>\n",
       "      <td>0</td>\n",
       "      <td>0</td>\n",
       "      <td>0</td>\n",
       "      <td>0</td>\n",
       "    </tr>\n",
       "  </tbody>\n",
       "</table>\n",
       "</div>"
      ],
      "text/plain": [
       "   fema_payout  coastal_storm  earthquake  fire  flood  hurrincane  \\\n",
       "0    904490.14              0           0     0      0           0   \n",
       "1    842464.67              0           0     0      0           0   \n",
       "2   1409793.92              0           0     0      0           1   \n",
       "3    253189.73              0           0     0      0           1   \n",
       "4         0.00              0           0     0      0           1   \n",
       "\n",
       "   mud_landslide  severe_ice_storm  severe_storms  snow  tornado  volcano  \\\n",
       "0              0                 0              1     0        0        0   \n",
       "1              0                 0              1     0        0        0   \n",
       "2              0                 0              0     0        0        0   \n",
       "3              0                 0              0     0        0        0   \n",
       "4              0                 0              0     0        0        0   \n",
       "\n",
       "   high_cost  \n",
       "0          1  \n",
       "1          1  \n",
       "2          1  \n",
       "3          1  \n",
       "4          0  "
      ]
     },
     "execution_count": 8,
     "metadata": {},
     "output_type": "execute_result"
    }
   ],
   "source": [
    "incidentCost.drop(columns='low_cost', axis=1, inplace=True)\n",
    "incidentCost.head()"
   ]
  },
  {
   "cell_type": "code",
   "execution_count": 9,
   "metadata": {},
   "outputs": [],
   "source": [
    "incidentCost.to_excel(r'C:\\Users\\dkrug\\bootcamp\\Home_Work\\project_2\\Natural-Disaster-Analysis\\ml\\output_data\\incidentCost.xlsx')"
   ]
  },
  {
   "cell_type": "code",
   "execution_count": 10,
   "metadata": {},
   "outputs": [
    {
     "name": "stdout",
     "output_type": "stream",
     "text": [
      "(325, 11) (325,)\n"
     ]
    }
   ],
   "source": [
    "features = ['coastal_storm','earthquake','fire','flood','hurrincane','mud_landslide',\n",
    "                   'severe_ice_storm','severe_storms','snow','tornado','volcano']\n",
    "\n",
    "X = incidentCost[features]\n",
    "y = incidentCost['high_cost']\n",
    "print(X.shape, y.shape)"
   ]
  },
  {
   "cell_type": "code",
   "execution_count": 11,
   "metadata": {},
   "outputs": [],
   "source": [
    "from sklearn.model_selection import train_test_split\n",
    "\n",
    "X_train, X_test, y_train, y_test = train_test_split(X, y, random_state=50)"
   ]
  },
  {
   "cell_type": "code",
   "execution_count": 12,
   "metadata": {},
   "outputs": [
    {
     "data": {
      "text/plain": [
       "LogisticRegression(max_iter=1000)"
      ]
     },
     "execution_count": 12,
     "metadata": {},
     "output_type": "execute_result"
    }
   ],
   "source": [
    "from sklearn.linear_model import LogisticRegression\n",
    "classifier = LogisticRegression(max_iter=1000)\n",
    "classifier"
   ]
  },
  {
   "cell_type": "code",
   "execution_count": 13,
   "metadata": {},
   "outputs": [
    {
     "data": {
      "text/plain": [
       "LogisticRegression(max_iter=1000)"
      ]
     },
     "execution_count": 13,
     "metadata": {},
     "output_type": "execute_result"
    }
   ],
   "source": [
    "classifier.fit(X_train, y_train)"
   ]
  },
  {
   "cell_type": "code",
   "execution_count": 14,
   "metadata": {},
   "outputs": [
    {
     "name": "stdout",
     "output_type": "stream",
     "text": [
      "Training Data Score: 0.6460905349794238\n",
      "Testing Data Score: 0.5487804878048781\n"
     ]
    }
   ],
   "source": [
    "print(f\"Training Data Score: {classifier.score(X_train, y_train)}\")\n",
    "print(f\"Testing Data Score: {classifier.score(X_test, y_test)}\")"
   ]
  },
  {
   "cell_type": "code",
   "execution_count": 15,
   "metadata": {},
   "outputs": [
    {
     "name": "stdout",
     "output_type": "stream",
     "text": [
      "First 10 Predictions:   [1 0 1 0 0 0 1 1 0 0]\n",
      "First 10 Actual labels: [0, 1, 0, 0, 1, 0, 0, 0, 1, 1]\n"
     ]
    }
   ],
   "source": [
    "predictions = classifier.predict(X_test)\n",
    "print(f\"First 10 Predictions:   {predictions[:10]}\")\n",
    "print(f\"First 10 Actual labels: {y_test[:10].tolist()}\")"
   ]
  },
  {
   "cell_type": "code",
   "execution_count": 16,
   "metadata": {},
   "outputs": [
    {
     "data": {
      "text/html": [
       "<div>\n",
       "<style scoped>\n",
       "    .dataframe tbody tr th:only-of-type {\n",
       "        vertical-align: middle;\n",
       "    }\n",
       "\n",
       "    .dataframe tbody tr th {\n",
       "        vertical-align: top;\n",
       "    }\n",
       "\n",
       "    .dataframe thead th {\n",
       "        text-align: right;\n",
       "    }\n",
       "</style>\n",
       "<table border=\"1\" class=\"dataframe\">\n",
       "  <thead>\n",
       "    <tr style=\"text-align: right;\">\n",
       "      <th></th>\n",
       "      <th>Prediction</th>\n",
       "      <th>Actual</th>\n",
       "    </tr>\n",
       "  </thead>\n",
       "  <tbody>\n",
       "    <tr>\n",
       "      <th>0</th>\n",
       "      <td>1</td>\n",
       "      <td>0</td>\n",
       "    </tr>\n",
       "    <tr>\n",
       "      <th>1</th>\n",
       "      <td>0</td>\n",
       "      <td>1</td>\n",
       "    </tr>\n",
       "    <tr>\n",
       "      <th>2</th>\n",
       "      <td>1</td>\n",
       "      <td>0</td>\n",
       "    </tr>\n",
       "    <tr>\n",
       "      <th>3</th>\n",
       "      <td>0</td>\n",
       "      <td>0</td>\n",
       "    </tr>\n",
       "    <tr>\n",
       "      <th>4</th>\n",
       "      <td>0</td>\n",
       "      <td>1</td>\n",
       "    </tr>\n",
       "    <tr>\n",
       "      <th>...</th>\n",
       "      <td>...</td>\n",
       "      <td>...</td>\n",
       "    </tr>\n",
       "    <tr>\n",
       "      <th>77</th>\n",
       "      <td>1</td>\n",
       "      <td>0</td>\n",
       "    </tr>\n",
       "    <tr>\n",
       "      <th>78</th>\n",
       "      <td>1</td>\n",
       "      <td>1</td>\n",
       "    </tr>\n",
       "    <tr>\n",
       "      <th>79</th>\n",
       "      <td>1</td>\n",
       "      <td>0</td>\n",
       "    </tr>\n",
       "    <tr>\n",
       "      <th>80</th>\n",
       "      <td>1</td>\n",
       "      <td>1</td>\n",
       "    </tr>\n",
       "    <tr>\n",
       "      <th>81</th>\n",
       "      <td>0</td>\n",
       "      <td>0</td>\n",
       "    </tr>\n",
       "  </tbody>\n",
       "</table>\n",
       "<p>82 rows × 2 columns</p>\n",
       "</div>"
      ],
      "text/plain": [
       "    Prediction  Actual\n",
       "0            1       0\n",
       "1            0       1\n",
       "2            1       0\n",
       "3            0       0\n",
       "4            0       1\n",
       "..         ...     ...\n",
       "77           1       0\n",
       "78           1       1\n",
       "79           1       0\n",
       "80           1       1\n",
       "81           0       0\n",
       "\n",
       "[82 rows x 2 columns]"
      ]
     },
     "execution_count": 16,
     "metadata": {},
     "output_type": "execute_result"
    }
   ],
   "source": [
    "pd.DataFrame({\"Prediction\": predictions, \"Actual\": y_test}).reset_index(drop=True)"
   ]
  },
  {
   "cell_type": "code",
   "execution_count": 17,
   "metadata": {},
   "outputs": [
    {
     "name": "stdout",
     "output_type": "stream",
     "text": [
      "{'coastal_storm': 0.030278362348496176, 'earthquake': 0.32508274078700866, 'fire': 0.011989607193550456, 'flood': 0.33088030511171757, 'hurrincane': 0.2911256801354807, 'mud_landslide': 0.8450396076265702, 'severe_ice_storm': 0.3187718186596052, 'severe_storms': 0.6799687782145047, 'snow': 0.7285871218569837, 'tornado': 0.22265007785473012, 'volcano': 0.38398099956707815}\n"
     ]
    }
   ],
   "source": [
    "# define the model\n",
    "logistic_regression_model = LogisticRegression()\n",
    "# fit the model\n",
    "logistic_regression_model.fit(X, y)\n",
    "\n",
    "importance = {}\n",
    "# summarize featuremportance\n",
    "for i,v in enumerate(logistic_regression_model.coef_[0]):\n",
    "    importance[features[i]] = abs(v)\n",
    "    #print('Feature: %0d, Score: %.5f' % (i,v))\n",
    "print(importance)"
   ]
  },
  {
   "cell_type": "code",
   "execution_count": 19,
   "metadata": {},
   "outputs": [
    {
     "data": {
      "image/png": "[encoded data removed]",
      "text/plain": [
       "<Figure size 432x288 with 1 Axes>"
      ]
     },
     "metadata": {
      "needs_background": "light"
     },
     "output_type": "display_data"
    }
   ],
   "source": [
    "plt.bar([x for x in range(len(logistic_regression_model.coef_[0]))], logistic_regression_model.coef_[0])\n",
    "#plt.savefig('images\\logistic_regression_model.png')\n",
    "plt.show()"
   ]
  },
  {
   "cell_type": "code",
   "execution_count": 74,
   "metadata": {
    "scrolled": true
   },
   "outputs": [
    {
     "data": {
      "image/png": "[encoded data removed]",
      "text/plain": [
       "<Figure size 842.4x595.44 with 1 Axes>"
      ]
     },
     "metadata": {
      "needs_background": "light"
     },
     "output_type": "display_data"
    }
   ],
   "source": [
    "from matplotlib import pyplot\n",
    "import seaborn as sns\n",
    "\n",
    "\n",
    "a4_dims = (11.7, 8.27)\n",
    "\n",
    "fig, ax = pyplot.subplots(figsize=a4_dims)\n",
    "my_df = pd.DataFrame(importance.items())\n",
    "my_df.columns=['feature', 'feature_importance']\n",
    "ax = sns.barplot(x='feature', y='feature_importance', data=my_df, order=my_df.sort_values(by=['feature_importance'], inplace=True, ascending=False))\n",
    "ax.set_xticklabels(ax.get_xticklabels(), \n",
    "                          rotation=90, \n",
    "                          horizontalalignment='right')\n",
    "ax.set(xlabel = 'Disasters', ylabel='importance', title='Title')\n",
    "plt.savefig('logistic_regression_name.png', bbox_inches='tight')"
   ]
  },
  {
   "cell_type": "code",
   "execution_count": 31,
   "metadata": {},
   "outputs": [
    {
     "data": {
      "text/html": [
       "<div>\n",
       "<style scoped>\n",
       "    .dataframe tbody tr th:only-of-type {\n",
       "        vertical-align: middle;\n",
       "    }\n",
       "\n",
       "    .dataframe tbody tr th {\n",
       "        vertical-align: top;\n",
       "    }\n",
       "\n",
       "    .dataframe thead th {\n",
       "        text-align: right;\n",
       "    }\n",
       "</style>\n",
       "<table border=\"1\" class=\"dataframe\">\n",
       "  <thead>\n",
       "    <tr style=\"text-align: right;\">\n",
       "      <th></th>\n",
       "      <th>feature</th>\n",
       "      <th>feature_importance</th>\n",
       "    </tr>\n",
       "  </thead>\n",
       "  <tbody>\n",
       "    <tr>\n",
       "      <th>0</th>\n",
       "      <td>coastal_storm</td>\n",
       "      <td>0.030278</td>\n",
       "    </tr>\n",
       "    <tr>\n",
       "      <th>1</th>\n",
       "      <td>earthquake</td>\n",
       "      <td>0.325083</td>\n",
       "    </tr>\n",
       "    <tr>\n",
       "      <th>2</th>\n",
       "      <td>fire</td>\n",
       "      <td>0.011990</td>\n",
       "    </tr>\n",
       "    <tr>\n",
       "      <th>3</th>\n",
       "      <td>flood</td>\n",
       "      <td>0.330880</td>\n",
       "    </tr>\n",
       "    <tr>\n",
       "      <th>4</th>\n",
       "      <td>hurrincane</td>\n",
       "      <td>0.291126</td>\n",
       "    </tr>\n",
       "    <tr>\n",
       "      <th>5</th>\n",
       "      <td>mud_landslide</td>\n",
       "      <td>0.845040</td>\n",
       "    </tr>\n",
       "    <tr>\n",
       "      <th>6</th>\n",
       "      <td>severe_ice_storm</td>\n",
       "      <td>0.318772</td>\n",
       "    </tr>\n",
       "    <tr>\n",
       "      <th>7</th>\n",
       "      <td>severe_storms</td>\n",
       "      <td>0.679969</td>\n",
       "    </tr>\n",
       "    <tr>\n",
       "      <th>8</th>\n",
       "      <td>snow</td>\n",
       "      <td>0.728587</td>\n",
       "    </tr>\n",
       "    <tr>\n",
       "      <th>9</th>\n",
       "      <td>tornado</td>\n",
       "      <td>0.222650</td>\n",
       "    </tr>\n",
       "    <tr>\n",
       "      <th>10</th>\n",
       "      <td>volcano</td>\n",
       "      <td>0.383981</td>\n",
       "    </tr>\n",
       "  </tbody>\n",
       "</table>\n",
       "</div>"
      ],
      "text/plain": [
       "             feature  feature_importance\n",
       "0      coastal_storm            0.030278\n",
       "1         earthquake            0.325083\n",
       "2               fire            0.011990\n",
       "3              flood            0.330880\n",
       "4         hurrincane            0.291126\n",
       "5      mud_landslide            0.845040\n",
       "6   severe_ice_storm            0.318772\n",
       "7      severe_storms            0.679969\n",
       "8               snow            0.728587\n",
       "9            tornado            0.222650\n",
       "10           volcano            0.383981"
      ]
     },
     "execution_count": 31,
     "metadata": {},
     "output_type": "execute_result"
    }
   ],
   "source": [
    "my_df"
   ]
  },
  {
   "cell_type": "code",
   "execution_count": null,
   "metadata": {},
   "outputs": [],
   "source": [
    "import seaborn as sns\n",
    "sns.barplot(x=keys, y=values)"
   ]
  },
  {
   "cell_type": "code",
   "execution_count": 39,
   "metadata": {},
   "outputs": [
    {
     "data": {
      "image/png": "[encoded data removed]",
      "text/plain": [
       "<Figure size 1080x720 with 2 Axes>"
      ]
     },
     "metadata": {},
     "output_type": "display_data"
    }
   ],
   "source": [
    "\n",
    "plt.rcParams['figure.figsize'] = (15, 10)\n",
    "plt.style.use('ggplot')\n",
    "sns.heatmap(incidentCost.corr(), annot = True, cmap = 'coolwarm', linewidths=0.5)\n",
    "plt.title('Heatmap for the Dataset', fontsize = 20)\n",
    "#plt.savefig('images\\dataset_heatmap')\n",
    "plt.show()"
   ]
  },
  {
   "cell_type": "code",
   "execution_count": 40,
   "metadata": {},
   "outputs": [
    {
     "data": {
      "image/png": "[encoded data removed]",
      "text/plain": [
       "<Figure size 1152x108 with 2 Axes>"
      ]
     },
     "metadata": {},
     "output_type": "display_data"
    }
   ],
   "source": [
    "# Correlation with only target variables -- in this case its the AVG PRICE\n",
    "sns.set(rc={'figure.figsize':(16,1.5)})\n",
    "sns.heatmap(pd.DataFrame(pd.DataFrame(incidentCost.corr()).fema_payout).T,annot=True, cmap='YlGnBu')\n",
    "plt.show()"
   ]
  },
  {
   "cell_type": "code",
   "execution_count": 41,
   "metadata": {},
   "outputs": [],
   "source": [
    "target = incidentCost['high_cost']\n",
    "target_names = [\"low\", \"high\"]"
   ]
  },
  {
   "cell_type": "code",
   "execution_count": 42,
   "metadata": {},
   "outputs": [
    {
     "data": {
      "text/html": [
       "<div>\n",
       "<style scoped>\n",
       "    .dataframe tbody tr th:only-of-type {\n",
       "        vertical-align: middle;\n",
       "    }\n",
       "\n",
       "    .dataframe tbody tr th {\n",
       "        vertical-align: top;\n",
       "    }\n",
       "\n",
       "    .dataframe thead th {\n",
       "        text-align: right;\n",
       "    }\n",
       "</style>\n",
       "<table border=\"1\" class=\"dataframe\">\n",
       "  <thead>\n",
       "    <tr style=\"text-align: right;\">\n",
       "      <th></th>\n",
       "      <th>coastal_storm</th>\n",
       "      <th>earthquake</th>\n",
       "      <th>fire</th>\n",
       "      <th>flood</th>\n",
       "      <th>hurrincane</th>\n",
       "      <th>mud_landslide</th>\n",
       "      <th>severe_ice_storm</th>\n",
       "      <th>severe_storms</th>\n",
       "      <th>snow</th>\n",
       "      <th>tornado</th>\n",
       "      <th>volcano</th>\n",
       "    </tr>\n",
       "  </thead>\n",
       "  <tbody>\n",
       "    <tr>\n",
       "      <th>0</th>\n",
       "      <td>0</td>\n",
       "      <td>0</td>\n",
       "      <td>0</td>\n",
       "      <td>0</td>\n",
       "      <td>0</td>\n",
       "      <td>0</td>\n",
       "      <td>0</td>\n",
       "      <td>1</td>\n",
       "      <td>0</td>\n",
       "      <td>0</td>\n",
       "      <td>0</td>\n",
       "    </tr>\n",
       "    <tr>\n",
       "      <th>1</th>\n",
       "      <td>0</td>\n",
       "      <td>0</td>\n",
       "      <td>0</td>\n",
       "      <td>0</td>\n",
       "      <td>0</td>\n",
       "      <td>0</td>\n",
       "      <td>0</td>\n",
       "      <td>1</td>\n",
       "      <td>0</td>\n",
       "      <td>0</td>\n",
       "      <td>0</td>\n",
       "    </tr>\n",
       "    <tr>\n",
       "      <th>2</th>\n",
       "      <td>0</td>\n",
       "      <td>0</td>\n",
       "      <td>0</td>\n",
       "      <td>0</td>\n",
       "      <td>1</td>\n",
       "      <td>0</td>\n",
       "      <td>0</td>\n",
       "      <td>0</td>\n",
       "      <td>0</td>\n",
       "      <td>0</td>\n",
       "      <td>0</td>\n",
       "    </tr>\n",
       "    <tr>\n",
       "      <th>3</th>\n",
       "      <td>0</td>\n",
       "      <td>0</td>\n",
       "      <td>0</td>\n",
       "      <td>0</td>\n",
       "      <td>1</td>\n",
       "      <td>0</td>\n",
       "      <td>0</td>\n",
       "      <td>0</td>\n",
       "      <td>0</td>\n",
       "      <td>0</td>\n",
       "      <td>0</td>\n",
       "    </tr>\n",
       "    <tr>\n",
       "      <th>4</th>\n",
       "      <td>0</td>\n",
       "      <td>0</td>\n",
       "      <td>0</td>\n",
       "      <td>0</td>\n",
       "      <td>1</td>\n",
       "      <td>0</td>\n",
       "      <td>0</td>\n",
       "      <td>0</td>\n",
       "      <td>0</td>\n",
       "      <td>0</td>\n",
       "      <td>0</td>\n",
       "    </tr>\n",
       "  </tbody>\n",
       "</table>\n",
       "</div>"
      ],
      "text/plain": [
       "   coastal_storm  earthquake  fire  flood  hurrincane  mud_landslide  \\\n",
       "0              0           0     0      0           0              0   \n",
       "1              0           0     0      0           0              0   \n",
       "2              0           0     0      0           1              0   \n",
       "3              0           0     0      0           1              0   \n",
       "4              0           0     0      0           1              0   \n",
       "\n",
       "   severe_ice_storm  severe_storms  snow  tornado  volcano  \n",
       "0                 0              1     0        0        0  \n",
       "1                 0              1     0        0        0  \n",
       "2                 0              0     0        0        0  \n",
       "3                 0              0     0        0        0  \n",
       "4                 0              0     0        0        0  "
      ]
     },
     "execution_count": 42,
     "metadata": {},
     "output_type": "execute_result"
    }
   ],
   "source": [
    "data = incidentCost.drop(['high_cost', 'fema_payout'], axis=1)\n",
    "feature_names = data.columns\n",
    "data.head()"
   ]
  },
  {
   "cell_type": "code",
   "execution_count": 43,
   "metadata": {},
   "outputs": [],
   "source": [
    "from sklearn import tree\n",
    "X_train, X_test, y_train, y_test = train_test_split(data, target, random_state=42)"
   ]
  },
  {
   "cell_type": "code",
   "execution_count": 44,
   "metadata": {},
   "outputs": [
    {
     "data": {
      "text/plain": [
       "0.5365853658536586"
      ]
     },
     "execution_count": 44,
     "metadata": {},
     "output_type": "execute_result"
    }
   ],
   "source": [
    "clf = tree.DecisionTreeClassifier()\n",
    "clf = clf.fit(X_train, y_train)\n",
    "clf.score(X_test, y_test)"
   ]
  },
  {
   "cell_type": "code",
   "execution_count": 45,
   "metadata": {},
   "outputs": [
    {
     "data": {
      "text/plain": [
       "0.5365853658536586"
      ]
     },
     "execution_count": 45,
     "metadata": {},
     "output_type": "execute_result"
    }
   ],
   "source": [
    "from sklearn.ensemble import RandomForestClassifier\n",
    "rf = RandomForestClassifier(n_estimators=200)\n",
    "rf = rf.fit(X_train, y_train)\n",
    "rf.score(X_test, y_test)"
   ]
  },
  {
   "cell_type": "code",
   "execution_count": 46,
   "metadata": {},
   "outputs": [
    {
     "data": {
      "text/plain": [
       "[(0.39321218356005644, 'severe_storms'),\n",
       " (0.10566483912976946, 'hurrincane'),\n",
       " (0.09549481742197205, 'snow'),\n",
       " (0.09033307078184322, 'flood'),\n",
       " (0.07510165969274657, 'mud_landslide'),\n",
       " (0.0744544349305263, 'severe_ice_storm'),\n",
       " (0.05206205462020433, 'tornado'),\n",
       " (0.04045142635844044, 'fire'),\n",
       " (0.0274045653091424, 'earthquake'),\n",
       " (0.024303984377519086, 'volcano'),\n",
       " (0.021516963817779712, 'coastal_storm')]"
      ]
     },
     "execution_count": 46,
     "metadata": {},
     "output_type": "execute_result"
    }
   ],
   "source": [
    "sorted(zip(rf.feature_importances_, feature_names), reverse=True)"
   ]
  },
  {
   "cell_type": "code",
   "execution_count": 75,
   "metadata": {},
   "outputs": [
    {
     "data": {
      "image/png": "[encoded data removed]",
      "text/plain": [
       "<Figure size 432x288 with 1 Axes>"
      ]
     },
     "metadata": {
      "needs_background": "light"
     },
     "output_type": "display_data"
    }
   ],
   "source": [
    "# Random Forests in sklearn will automatically calculate feature importance\n",
    "importances = rf.feature_importances_\n",
    "importances\n",
    "feature_imp = pd.Series(rf.feature_importances_,index=feature_names).sort_values(ascending=False)\n",
    "feature_imp\n",
    "import matplotlib.pyplot as plt\n",
    "import seaborn as sns\n",
    "%matplotlib inline\n",
    "# Creating a bar plot\n",
    "sns.barplot(x=feature_imp, y=feature_imp.index)\n",
    "# Add labels to your graph\n",
    "plt.xlabel('Feature Importance Score')\n",
    "plt.ylabel('Features')\n",
    "plt.title(\"Visualizing Important Features\")\n",
    "#plt.legend()\n",
    "#plt.savefig('../app/images/important_features.png', bbox_inches='tight')\n",
    "plt.show()"
   ]
  },
  {
   "cell_type": "code",
   "execution_count": null,
   "metadata": {},
   "outputs": [],
   "source": []
  },
  {
   "cell_type": "code",
   "execution_count": null,
   "metadata": {},
   "outputs": [],
   "source": []
  }
 ],
 "metadata": {
  "kernelspec": {
   "display_name": "Python 3",
   "language": "python",
   "name": "python3"
  },
  "language_info": {
   "codemirror_mode": {
    "name": "ipython",
    "version": 3
   },
   "file_extension": ".py",
   "mimetype": "text/x-python",
   "name": "python",
   "nbconvert_exporter": "python",
   "pygments_lexer": "ipython3",
   "version": "3.8.5"
  }
 },
 "nbformat": 4,
 "nbformat_minor": 4
}
